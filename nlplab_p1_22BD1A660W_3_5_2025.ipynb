{
  "cells": [
    {
      "cell_type": "markdown",
      "metadata": {
        "id": "view-in-github",
        "colab_type": "text"
      },
      "source": [
        "<a href=\"https://colab.research.google.com/github/WaryFriend456/NLP/blob/main/nlplab_p1_22BD1A660W_3_5_2025.ipynb\" target=\"_parent\"><img src=\"https://colab.research.google.com/assets/colab-badge.svg\" alt=\"Open In Colab\"/></a>"
      ]
    },
    {
      "cell_type": "code",
      "execution_count": null,
      "id": "d576826b-df19-4b15-baa4-876cbd12e829",
      "metadata": {
        "id": "d576826b-df19-4b15-baa4-876cbd12e829"
      },
      "outputs": [],
      "source": [
        "import spacy"
      ]
    },
    {
      "cell_type": "code",
      "execution_count": null,
      "id": "3ae1a250-84a4-4e15-82b4-831aa7eaf701",
      "metadata": {
        "id": "3ae1a250-84a4-4e15-82b4-831aa7eaf701"
      },
      "outputs": [],
      "source": [
        "nlp = spacy.blank(\"en\")"
      ]
    },
    {
      "cell_type": "code",
      "execution_count": null,
      "id": "550a80ad-e3d7-4a49-b048-f028d8f86ea9",
      "metadata": {
        "id": "550a80ad-e3d7-4a49-b048-f028d8f86ea9"
      },
      "outputs": [],
      "source": [
        "text = \"I am Kushal Bang, Currently pursuing my BTech in KMIT.\"\n",
        "doc = nlp(text)"
      ]
    },
    {
      "cell_type": "code",
      "execution_count": null,
      "id": "b416e596-5791-413c-b36d-e3f8f36228e3",
      "metadata": {
        "id": "b416e596-5791-413c-b36d-e3f8f36228e3",
        "outputId": "7ea49ce8-4177-4e9a-a3b1-c540d2c88242"
      },
      "outputs": [
        {
          "name": "stdout",
          "output_type": "stream",
          "text": [
            "First token:  I\n"
          ]
        }
      ],
      "source": [
        "firstToken = doc[0]\n",
        "print(\"First token: \", firstToken.text)"
      ]
    },
    {
      "cell_type": "code",
      "execution_count": null,
      "id": "19f37ec6-31f2-47d7-888a-857be999a8c3",
      "metadata": {
        "id": "19f37ec6-31f2-47d7-888a-857be999a8c3",
        "outputId": "906d2a76-c2d6-46e4-c7ed-31fdd94ac83e"
      },
      "outputs": [
        {
          "name": "stdout",
          "output_type": "stream",
          "text": [
            "I am Kushal Bang, Currently pursuing my BTech in KMIT.\n"
          ]
        }
      ],
      "source": [
        "print(doc)"
      ]
    }
  ],
  "metadata": {
    "kernelspec": {
      "display_name": "Python 3 (ipykernel)",
      "language": "python",
      "name": "python3"
    },
    "language_info": {
      "codemirror_mode": {
        "name": "ipython",
        "version": 3
      },
      "file_extension": ".py",
      "mimetype": "text/x-python",
      "name": "python",
      "nbconvert_exporter": "python",
      "pygments_lexer": "ipython3",
      "version": "3.11.9"
    },
    "colab": {
      "provenance": [],
      "include_colab_link": true
    }
  },
  "nbformat": 4,
  "nbformat_minor": 5
}